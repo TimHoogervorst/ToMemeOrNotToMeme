{
 "cells": [
  {
   "cell_type": "code",
   "execution_count": 1,
   "metadata": {},
   "outputs": [],
   "source": [
    "# Import required modules\n",
    "import praw\n",
    "import requests\n",
    "import os\n",
    "from tqdm.notebook import tqdm\n",
    "import pandas as pd\n",
    "import shutil\n",
    "import numpy as np\n",
    "\n",
    "# Import created modules\n",
    "from modules.Preprocess_Validation import preprocess\n",
    "from modules.Credentials import credentials as cred\n",
    "from torchvision import transforms\n",
    "\n",
    "reddit = praw.Reddit(\n",
    "    user_agent=True, \n",
    "    client_id=cred.client_id, \n",
    "    client_secret=cred.client_secret, \n",
    "    username=cred.username, \n",
    "    password=cred.password)"
   ]
  },
  {
   "cell_type": "markdown",
   "metadata": {},
   "source": [
    "Create Folders according to input"
   ]
  },
  {
   "cell_type": "code",
   "execution_count": 6,
   "metadata": {},
   "outputs": [],
   "source": [
    "DataBaseName = 'AddTest'\n",
    "limit = 50\n",
    "# Pool the correct subreddits into the correct labels {subreddit : label}\n",
    "subreddits = {'cats': 'cat', 'cat':'cat','meme': 'memes', 'memes': 'memes'}"
   ]
  },
  {
   "cell_type": "code",
   "execution_count": 8,
   "metadata": {},
   "outputs": [
    {
     "data": {
      "application/vnd.jupyter.widget-view+json": {
       "model_id": "4cee056f4d504e159fd2578f8a8ab3d0",
       "version_major": 2,
       "version_minor": 0
      },
      "text/plain": [
       "Downloading Images from cats: 0it [00:00, ?it/s]"
      ]
     },
     "metadata": {},
     "output_type": "display_data"
    },
    {
     "data": {
      "application/vnd.jupyter.widget-view+json": {
       "model_id": "5bc56869cf624a218fb5fb27527c1dcf",
       "version_major": 2,
       "version_minor": 0
      },
      "text/plain": [
       "Downloading Images from cat: 0it [00:00, ?it/s]"
      ]
     },
     "metadata": {},
     "output_type": "display_data"
    },
    {
     "data": {
      "application/vnd.jupyter.widget-view+json": {
       "model_id": "0be6779b024b4e2b9760b4b7edcf335f",
       "version_major": 2,
       "version_minor": 0
      },
      "text/plain": [
       "Downloading Images from meme: 0it [00:00, ?it/s]"
      ]
     },
     "metadata": {},
     "output_type": "display_data"
    },
    {
     "data": {
      "application/vnd.jupyter.widget-view+json": {
       "model_id": "8f91696b96b74d29a79a134fe51a7ade",
       "version_major": 2,
       "version_minor": 0
      },
      "text/plain": [
       "Downloading Images from memes: 0it [00:00, ?it/s]"
      ]
     },
     "metadata": {},
     "output_type": "display_data"
    }
   ],
   "source": [
    "\n",
    "if not os.path.exists('./'+DataBaseName):\n",
    "    os.makedirs('./'+DataBaseName, exist_ok=True)\n",
    "\n",
    "    for folder in ['train', 'valid', 'test']:\n",
    "        os.makedirs('./'+DataBaseName+'/'+folder, exist_ok=True)\n",
    "\n",
    "        for sub in subreddits.values():\n",
    "            os.makedirs('./'+DataBaseName+'/'+folder+'/'+sub, exist_ok=True)\n",
    "\n",
    "for sub, folder_name in subreddits.items():\n",
    "    subreddit = reddit.subreddit(sub)\n",
    "    posts = subreddit.hot(limit=limit)\n",
    "\n",
    "    # loop over fil, download image\n",
    "    for post in tqdm(posts, desc=f'Downloading Images from {sub}'):\n",
    "\n",
    "        # filter for only .jpg/jpeg/png files\n",
    "        if post.url.endswith(('.jpg', '.jpeg', '.png')):\n",
    "            response = requests.get(post.url)\n",
    "\n",
    "            # Check if connection is okay?\n",
    "            if response.status_code == 200:\n",
    "                file_extension = post.url.split('.')[-1]\n",
    "\n",
    "                output_folder = f\"{DataBaseName}/{'train'}/{folder_name}\"\n",
    "                filename = f\"{output_folder}/{post.id}.{file_extension}\"\n",
    "\n",
    "                with open(filename, 'wb') as file:\n",
    "                    file.write(response.content)\n",
    "            else:\n",
    "                print(f\"Failed to download image: {post.url}\")"
   ]
  },
  {
   "cell_type": "code",
   "execution_count": 4,
   "metadata": {},
   "outputs": [
    {
     "data": {
      "application/vnd.jupyter.widget-view+json": {
       "model_id": "a8f34dbe4f624e8b83b3e6c072183c86",
       "version_major": 2,
       "version_minor": 0
      },
      "text/plain": [
       "  0%|          | 0/82 [00:00<?, ?it/s]"
      ]
     },
     "metadata": {},
     "output_type": "display_data"
    }
   ],
   "source": [
    "transform = transforms.Compose([\n",
    "    transforms.Resize((256, 256))\n",
    "])\n",
    "\n",
    "# preprocess = preprocess.PreProcess(transform=transform)\n",
    "preprocess.pre_prosses_data_set('./AddTest/train/memes/')"
   ]
  },
  {
   "cell_type": "markdown",
   "metadata": {},
   "source": [
    "Create Proper CSV output / Determine final location of the Image"
   ]
  },
  {
   "cell_type": "code",
   "execution_count": 4,
   "metadata": {},
   "outputs": [],
   "source": [
    "output_csv = pd.DataFrame()\n",
    "labels = list(set(subreddits.values()))\n",
    "\n",
    "for label in labels:\n",
    "    items = os.listdir(f\"./{DataBaseName}/train/{label}\")\n",
    "    temp_df = pd.DataFrame({\"id\":items, \"label\":label})\n",
    "    output_csv = pd.concat([output_csv, temp_df]).reset_index(drop=True)"
   ]
  },
  {
   "cell_type": "code",
   "execution_count": 5,
   "metadata": {},
   "outputs": [
    {
     "data": {
      "text/plain": [
       "label  used \n",
       "cat    True     1053\n",
       "memes  True     1053\n",
       "       False      22\n",
       "Name: count, dtype: int64"
      ]
     },
     "metadata": {},
     "output_type": "display_data"
    },
    {
     "name": "stderr",
     "output_type": "stream",
     "text": [
      "C:\\Users\\timmi\\AppData\\Local\\Temp\\ipykernel_14692\\1347561173.py:31: SettingWithCopyWarning: \n",
      "A value is trying to be set on a copy of a slice from a DataFrame\n",
      "\n",
      "See the caveats in the documentation: https://pandas.pydata.org/pandas-docs/stable/user_guide/indexing.html#returning-a-view-versus-a-copy\n",
      "  output_csv['set'].loc[index] = 'Non Used'\n"
     ]
    }
   ],
   "source": [
    "# Check for class imbalance / push all overflow to one folder\n",
    "output_csv['used'] = True\n",
    "values = output_csv['label'].value_counts().sort_values(ascending=False)\n",
    "\n",
    "# Check for class imbalance -> TODO make this work with more then 2 classes\n",
    "if values.nunique() != 1:\n",
    "\n",
    "    # Determine which value is under and over balanced\n",
    "    high_label = values.index[0]\n",
    "    low_label = values.index[-1]\n",
    "    sample = values[high_label] - values[low_label]\n",
    "\n",
    "    # Set highest class to lowest class -> UNDERSAMPLE\n",
    "    rows = output_csv[output_csv['label'] == high_label].sample(n=sample, replace=False).index\n",
    "    output_csv.loc[rows, 'used'] = False\n",
    "\n",
    "# Display the final output of value counts\n",
    "display(output_csv[['label', 'used']].value_counts())\n",
    "\n",
    "# Create non-used folder\n",
    "os.makedirs(f\"./{DataBaseName}/non-used\", exist_ok=True)\n",
    "output_csv['set'] = np.NaN\n",
    "\n",
    "# Move pictures to non-used folder if used is set to false\n",
    "for label in labels:\n",
    "    for index, row in output_csv[output_csv['label'] == label].iterrows():\n",
    "        \n",
    "        if row['used'] == False:\n",
    "            source_path = f\"./{DataBaseName}/train/{label}/{output_csv['id'].loc[index]}\"\n",
    "            destination_path = f\"./{DataBaseName}/non-used\"\n",
    "            output_csv['set'].loc[index] = 'Non Used'\n",
    "\n",
    "            # Move the file\n",
    "            shutil.move(source_path, destination_path)"
   ]
  },
  {
   "cell_type": "code",
   "execution_count": 6,
   "metadata": {},
   "outputs": [
    {
     "data": {
      "text/html": [
       "<div>\n",
       "<style scoped>\n",
       "    .dataframe tbody tr th:only-of-type {\n",
       "        vertical-align: middle;\n",
       "    }\n",
       "\n",
       "    .dataframe tbody tr th {\n",
       "        vertical-align: top;\n",
       "    }\n",
       "\n",
       "    .dataframe thead th {\n",
       "        text-align: right;\n",
       "    }\n",
       "</style>\n",
       "<table border=\"1\" class=\"dataframe\">\n",
       "  <thead>\n",
       "    <tr style=\"text-align: right;\">\n",
       "      <th></th>\n",
       "      <th>id</th>\n",
       "      <th>label</th>\n",
       "      <th>used</th>\n",
       "      <th>set</th>\n",
       "    </tr>\n",
       "  </thead>\n",
       "  <tbody>\n",
       "    <tr>\n",
       "      <th>1062</th>\n",
       "      <td>198aml8.jpeg</td>\n",
       "      <td>memes</td>\n",
       "      <td>False</td>\n",
       "      <td>Non Used</td>\n",
       "    </tr>\n",
       "    <tr>\n",
       "      <th>1067</th>\n",
       "      <td>198k18o.jpeg</td>\n",
       "      <td>memes</td>\n",
       "      <td>False</td>\n",
       "      <td>Non Used</td>\n",
       "    </tr>\n",
       "    <tr>\n",
       "      <th>1081</th>\n",
       "      <td>198v88x.png</td>\n",
       "      <td>memes</td>\n",
       "      <td>False</td>\n",
       "      <td>Non Used</td>\n",
       "    </tr>\n",
       "    <tr>\n",
       "      <th>1106</th>\n",
       "      <td>1994uog.png</td>\n",
       "      <td>memes</td>\n",
       "      <td>False</td>\n",
       "      <td>Non Used</td>\n",
       "    </tr>\n",
       "    <tr>\n",
       "      <th>1110</th>\n",
       "      <td>1997ft4.png</td>\n",
       "      <td>memes</td>\n",
       "      <td>False</td>\n",
       "      <td>Non Used</td>\n",
       "    </tr>\n",
       "  </tbody>\n",
       "</table>\n",
       "</div>"
      ],
      "text/plain": [
       "                id  label   used       set\n",
       "1062  198aml8.jpeg  memes  False  Non Used\n",
       "1067  198k18o.jpeg  memes  False  Non Used\n",
       "1081   198v88x.png  memes  False  Non Used\n",
       "1106   1994uog.png  memes  False  Non Used\n",
       "1110   1997ft4.png  memes  False  Non Used"
      ]
     },
     "execution_count": 6,
     "metadata": {},
     "output_type": "execute_result"
    }
   ],
   "source": [
    "# Drop false columns to other CSV\n",
    "dropped = output_csv[output_csv['used'] == False]\n",
    "output_csv = output_csv.drop(output_csv[output_csv['used'] == False].index, axis=0)\n",
    "dropped.head()"
   ]
  },
  {
   "cell_type": "code",
   "execution_count": 7,
   "metadata": {},
   "outputs": [
    {
     "data": {
      "text/plain": [
       "label  set  \n",
       "cat    train    957\n",
       "memes  train    957\n",
       "cat    valid     64\n",
       "memes  valid     64\n",
       "cat    test      32\n",
       "memes  test      32\n",
       "Name: count, dtype: int64"
      ]
     },
     "metadata": {},
     "output_type": "display_data"
    }
   ],
   "source": [
    "# Set Sizes of Sets, all over will be pushed to Train\n",
    "TestSize = 32\n",
    "ValidSize = 64\n",
    "\n",
    "# Get ranomd indexes which go to Test/Valid\n",
    "for label in labels:\n",
    "    selection = output_csv[(output_csv['label'] == label)]\n",
    "\n",
    "    # Set images to Test according to Test Size\n",
    "    test_selection = selection.sample(TestSize, replace=False)\n",
    "    test_indexes = test_selection.index\n",
    "    output_csv.loc[test_indexes, 'set'] = 'test'\n",
    "\n",
    "    # Set images to Valid according to the Test Size\n",
    "    valid_selection = selection[~selection.index.isin(test_selection.index)].sample(ValidSize, replace=False)\n",
    "    valid_indexes = valid_selection.index\n",
    "    output_csv.loc[valid_indexes, 'set'] = 'valid'\n",
    "    \n",
    "    # Set all other images over to the train folder\n",
    "    excluded_indexes = [item for sublist in [valid_indexes.to_list(), test_indexes.to_list()] for item in sublist]\n",
    "    train_selection = selection[~selection.index.isin(excluded_indexes)].index\n",
    "    output_csv.loc[train_selection, 'set'] = 'train'\n",
    "\n",
    "# display overall set\n",
    "display(output_csv[['label', 'set']].value_counts())"
   ]
  },
  {
   "cell_type": "markdown",
   "metadata": {},
   "source": [
    "Move to correct folder"
   ]
  },
  {
   "cell_type": "code",
   "execution_count": 8,
   "metadata": {},
   "outputs": [],
   "source": [
    "for label in labels:\n",
    "    test_folder = f\"./{DataBaseName}/test/{label}\"\n",
    "    valid_folder = f\"./{DataBaseName}/valid/{label}\"\n",
    "\n",
    "    # Move to Test Folder\n",
    "    for index, row in output_csv[(output_csv['label'] == label) & (output_csv['set'] == 'test')].iterrows():\n",
    "        source_path = f\"./{DataBaseName}/train/{label}/{output_csv['id'].loc[index]}\"\n",
    "        shutil.move(source_path, test_folder)\n",
    "    \n",
    "    # move to Valid folder\n",
    "    for index, row in output_csv[(output_csv['label'] == label) & (output_csv['set'] == 'valid')].iterrows():\n",
    "        source_path = f\"./{DataBaseName}/train/{label}/{output_csv['id'].loc[index]}\"\n",
    "        shutil.move(source_path, valid_folder)"
   ]
  },
  {
   "cell_type": "markdown",
   "metadata": {},
   "source": [
    "Make CSV"
   ]
  },
  {
   "cell_type": "code",
   "execution_count": 9,
   "metadata": {},
   "outputs": [],
   "source": [
    "output = pd.concat([output_csv, dropped])\n",
    "output.to_csv(f\"./{DataBaseName}/output.csv\")"
   ]
  },
  {
   "cell_type": "markdown",
   "metadata": {},
   "source": [
    "Test to see compressed data"
   ]
  },
  {
   "cell_type": "code",
   "execution_count": 1,
   "metadata": {},
   "outputs": [],
   "source": [
    "def preprocess_image(image_path, transform):\n",
    "    # Load and preprocess the image\n",
    "    image = Image.open(image_path).convert(\"RGB\")\n",
    "    return image, transform(image).unsqueeze(0)"
   ]
  },
  {
   "cell_type": "code",
   "execution_count": null,
   "metadata": {},
   "outputs": [],
   "source": [
    "meme_path = '../DataBaseV2/train/memes/'\n",
    "cat_path = '../DataBaseV2/train/cat/'"
   ]
  }
 ],
 "metadata": {
  "kernelspec": {
   "display_name": "Python 3",
   "language": "python",
   "name": "python3"
  },
  "language_info": {
   "codemirror_mode": {
    "name": "ipython",
    "version": 3
   },
   "file_extension": ".py",
   "mimetype": "text/x-python",
   "name": "python",
   "nbconvert_exporter": "python",
   "pygments_lexer": "ipython3",
   "version": "3.11.7"
  }
 },
 "nbformat": 4,
 "nbformat_minor": 2
}
