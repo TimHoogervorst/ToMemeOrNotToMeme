{
 "cells": [
  {
   "cell_type": "code",
   "execution_count": 13,
   "metadata": {},
   "outputs": [],
   "source": [
    "import torch\n",
    "import torch.nn as nn\n",
    "import torch.optim as optim\n",
    "import torchvision.transforms as transforms\n",
    "from torch.utils.data import DataLoader\n",
    "from tqdm.notebook import tqdm\n",
    "from modules.Neural_Work_Library import nn as nnlib\n",
    "from modules.Preprocess_Validation import preprocess\n",
    "import matplotlib.pyplot as plt\n",
    "import seaborn as sns\n",
    "from glob import glob\n",
    "import pandas as pd"
   ]
  },
  {
   "cell_type": "markdown",
   "metadata": {},
   "source": [
    "Set Datasets"
   ]
  },
  {
   "cell_type": "code",
   "execution_count": 277,
   "metadata": {},
   "outputs": [],
   "source": [
    "transform = transforms.Compose([\n",
    "    transforms.ToTensor()\n",
    "])\n",
    "\n",
    "train_folder = nnlib.MemeOrCatDataSet(data_dir=\"../SaladWithPizza/train/\", transform=transform)\n",
    "valid_folder = nnlib.MemeOrCatDataSet(data_dir=\"../SaladWithPizza/valid/\", transform=transform)\n",
    "\n",
    "train_loader = DataLoader(train_folder, batch_size=64, shuffle=True, pin_memory=True, pin_memory_device=\"cuda:0\")\n",
    "valid_loader = DataLoader(valid_folder, batch_size=10, shuffle=False, pin_memory=True, pin_memory_device=\"cuda:0\")\n",
    "\n",
    "PreProssor = preprocess.PreProcess(transform)"
   ]
  },
  {
   "cell_type": "markdown",
   "metadata": {},
   "source": [
    "Model/Device"
   ]
  },
  {
   "cell_type": "code",
   "execution_count": 376,
   "metadata": {},
   "outputs": [
    {
     "name": "stdout",
     "output_type": "stream",
     "text": [
      "NVIDIA GeForce RTX 4070 Ti\n"
     ]
    }
   ],
   "source": [
    "device = torch.device(\"cuda:0\" if torch.cuda.is_available() else \"cpu\")\n",
    "print(torch.cuda.get_device_name(device))\n",
    "\n",
    "# create model instance\n",
    "model = nnlib.MemeClassConv2d()\n",
    "model.to(device, non_blocking=True)\n",
    "model.total_epochs = 0\n",
    "\n",
    "train_losses, val_losses = [], []\n",
    "\n",
    "# loss Function\n",
    "criterion = nn.CrossEntropyLoss()"
   ]
  },
  {
   "cell_type": "markdown",
   "metadata": {},
   "source": [
    "Training Cycle"
   ]
  },
  {
   "cell_type": "code",
   "execution_count": 377,
   "metadata": {},
   "outputs": [
    {
     "data": {
      "application/vnd.jupyter.widget-view+json": {
       "model_id": "495d62064b5545218bde90d355ea8720",
       "version_major": 2,
       "version_minor": 0
      },
      "text/plain": [
       "Training Model:   0%|          | 0/30 [00:00<?, ?it/s]"
      ]
     },
     "metadata": {},
     "output_type": "display_data"
    },
    {
     "name": "stdout",
     "output_type": "stream",
     "text": [
      "Epoch 1/30 - Train Loss 1.4952683108193534, valid_loss 0.6932245492935181\n",
      "Epoch 2/30 - Train Loss 1.2384086847305298, valid_loss 0.6934995949268341\n",
      "Epoch 3/30 - Train Loss 1.1280416250228882, valid_loss 0.6935857236385345\n",
      "Epoch 4/30 - Train Loss 1.088904653276716, valid_loss 0.6933547854423523\n",
      "Epoch 5/30 - Train Loss 1.0748819623674666, valid_loss 0.6932940483093262\n",
      "Epoch 6/30 - Train Loss 1.0560244151524134, valid_loss 0.6932180523872375\n",
      "Epoch 7/30 - Train Loss 1.0246706690107072, valid_loss 0.6932843327522278\n",
      "Epoch 8/30 - Train Loss 0.988405168056488, valid_loss 0.6932636499404907\n",
      "Epoch 9/30 - Train Loss 0.9547283819743565, valid_loss 0.6932227611541748\n",
      "Epoch 10/30 - Train Loss 0.9281896352767944, valid_loss 0.6932859420776367\n",
      "Epoch 11/30 - Train Loss 0.9066994190216064, valid_loss 0.6931214034557343\n",
      "Epoch 12/30 - Train Loss 0.8899047715323312, valid_loss 0.6930832266807556\n",
      "Epoch 13/30 - Train Loss 0.8754131112779889, valid_loss 0.6930690407752991\n",
      "Epoch 14/30 - Train Loss 0.8594058156013489, valid_loss 0.693119466304779\n",
      "Epoch 15/30 - Train Loss 0.8442480393818447, valid_loss 0.6931161880493164\n",
      "Epoch 16/30 - Train Loss 0.8298203860010419, valid_loss 0.693050891160965\n",
      "Epoch 17/30 - Train Loss 0.8170017600059509, valid_loss 0.6930073201656342\n",
      "Epoch 18/30 - Train Loss 0.8059297800064087, valid_loss 0.6929439306259155\n",
      "Epoch 19/30 - Train Loss 0.7963966982705253, valid_loss 0.6928962469100952\n",
      "Epoch 20/30 - Train Loss 0.7876283867018563, valid_loss 0.6928912997245789\n",
      "Epoch 21/30 - Train Loss 0.7794837185314724, valid_loss 0.6928671300411224\n",
      "Epoch 22/30 - Train Loss 0.7717224359512329, valid_loss 0.6927096843719482\n",
      "Epoch 23/30 - Train Loss 0.7646566799708775, valid_loss 0.6925505697727203\n",
      "Epoch 24/30 - Train Loss 0.7582608801977975, valid_loss 0.6924897134304047\n",
      "Epoch 25/30 - Train Loss 0.7542027490479606, valid_loss 0.692674070596695\n",
      "Epoch 26/30 - Train Loss 0.7479188953127179, valid_loss 0.6927651166915894\n",
      "Epoch 27/30 - Train Loss 0.7432983858244759, valid_loss 0.6927402317523956\n",
      "Epoch 28/30 - Train Loss 0.739150983946664, valid_loss 0.6923237442970276\n",
      "Epoch 29/30 - Train Loss 0.7351336394037519, valid_loss 0.69206702709198\n",
      "Epoch 30/30 - Train Loss 0.7310582739966256, valid_loss 0.6919032037258148\n"
     ]
    }
   ],
   "source": [
    "num_epoch = 30\n",
    "\n",
    "# Optimizer\n",
    "optimizer = optim.Adam(model.parameters(), lr=0.001)\n",
    "\n",
    "l2_lambda = 0.01 \n",
    "\n",
    "for epoch in tqdm(range(num_epoch), desc=\"Training Model\"):\n",
    "\n",
    "    # Train cycle\n",
    "    model.train()\n",
    "    running_loss = 0.0\n",
    "    for images, labels in train_loader:\n",
    "        images, labels = images.to(device), labels.to(device)\n",
    "\n",
    "        # Optimizer / Backwards prop\n",
    "        optimizer.zero_grad()\n",
    "        outputs = model(images)\n",
    "        loss = criterion(outputs, labels)\n",
    "\n",
    "        # L2 regularization\n",
    "        loss += l2_lambda * sum(torch.sum(param ** 2) for param in model.parameters())\n",
    "\n",
    "        loss.backward()\n",
    "        optimizer.step()\n",
    "\n",
    "        # Calculate train loss\n",
    "        running_loss += loss.item() * images.size(0)\n",
    "\n",
    "    train_loss = running_loss / len(train_loader.dataset)\n",
    "    train_losses.append(train_loss)\n",
    "\n",
    "    # Validation cycle\n",
    "    model.eval()\n",
    "    running_loss = 0.0\n",
    "    with torch.no_grad():\n",
    "        for images, labels in valid_loader:\n",
    "            images, labels = images.to(device), labels.to(device)\n",
    "\n",
    "            # Calculate Val loss\n",
    "            outputs = model(images)\n",
    "            loss = criterion(outputs, labels)\n",
    "            running_loss += loss.item() * images.size(0)\n",
    "    val_loss = running_loss / len(valid_loader.dataset)\n",
    "    val_losses.append(val_loss)\n",
    "\n",
    "    # print EPOCH\n",
    "    print(f\"Epoch {epoch+1}/{num_epoch} - Train Loss {train_loss}, valid_loss {val_loss}\")\n",
    "    model.total_epochs += 1"
   ]
  },
  {
   "cell_type": "code",
   "execution_count": 378,
   "metadata": {},
   "outputs": [
    {
     "data": {
      "image/png": "[encoded data removed]",
      "text/plain": [
       "<Figure size 640x480 with 1 Axes>"
      ]
     },
     "metadata": {},
     "output_type": "display_data"
    }
   ],
   "source": [
    "fig, ax = plt.subplots()\n",
    "\n",
    "ax = sns.lineplot(train_losses, label='Training Losses')\n",
    "ax = sns.lineplot(val_losses, label='Validation Losses')\n",
    "\n",
    "plt.show()"
   ]
  },
  {
   "cell_type": "markdown",
   "metadata": {},
   "source": [
    "Evaluate"
   ]
  },
  {
   "cell_type": "code",
   "execution_count": 379,
   "metadata": {},
   "outputs": [
    {
     "data": {
      "text/plain": [
       "Predict  Real \n",
       "Salad    Salad    10\n",
       "         pizza    10\n",
       "Name: count, dtype: int64"
      ]
     },
     "execution_count": 379,
     "metadata": {},
     "output_type": "execute_result"
    }
   ],
   "source": [
    "salads = glob('../SaladWithPizza/test/Salad/*')\n",
    "pizzas = glob('../SaladWithPizza/test/pizza/*')\n",
    "class_names = train_folder.classes\n",
    "results = {}\n",
    "\n",
    "for a, b in zip(salads, pizzas):\n",
    "    _, a_tensor = PreProssor.process_image(a)\n",
    "    _, b_tensor = PreProssor.process_image(b)\n",
    "\n",
    "    results[a] = [nnlib.predict(model, a_tensor, device, class_names), 'Salad']\n",
    "    results[b] = [nnlib.predict(model, b_tensor, device, class_names), 'pizza']\n",
    "\n",
    "keys = [str(key).split('\\\\')[1] for key in results.keys()]\n",
    "pred_values = [result[0] for result in results.values()]\n",
    "real_values = [result[1] for result in results.values()]\n",
    "\n",
    "results_df = pd.DataFrame({\"ID\":keys, \"Predict\":pred_values, \"Real\":real_values})\n",
    "results_df[['Predict', 'Real']].value_counts()"
   ]
  },
  {
   "cell_type": "code",
   "execution_count": 380,
   "metadata": {},
   "outputs": [
    {
     "name": "stdout",
     "output_type": "stream",
     "text": [
      "Kappa:0.00 |  Recall:1.00 |  F1:0.67 |  Precision:0.50\n"
     ]
    },
    {
     "data": {
      "image/png": "[encoded data removed]",
      "text/plain": [
       "<Figure size 640x480 with 2 Axes>"
      ]
     },
     "metadata": {},
     "output_type": "display_data"
    }
   ],
   "source": [
    "from sklearn.metrics import confusion_matrix, ConfusionMatrixDisplay, cohen_kappa_score, recall_score, f1_score, precision_score\n",
    "\n",
    "matrix = confusion_matrix(y_true=results_df['Real'], y_pred=results_df['Predict'])\n",
    "kappa = cohen_kappa_score(y1=results_df['Predict'], y2=results_df['Real'])\n",
    "recall = recall_score(y_true=results_df['Real'], y_pred=results_df['Predict'], pos_label='Salad')\n",
    "f1 = f1_score(y_pred=results_df['Predict'], y_true=results_df['Real'], pos_label='Salad')\n",
    "precision = precision_score(y_pred=results_df['Predict'], y_true=results_df['Real'], pos_label='Salad')\n",
    "\n",
    "print(f\"Kappa:{kappa:.2f} |  Recall:{recall:.2f} |  F1:{f1:.2f} |  Precision:{precision:.2f}\")\n",
    "\n",
    "disp = ConfusionMatrixDisplay(matrix, display_labels=class_names)\n",
    "disp.plot()\n",
    "plt.show()"
   ]
  },
  {
   "cell_type": "code",
   "execution_count": 381,
   "metadata": {},
   "outputs": [
    {
     "data": {
      "text/html": [
       "<div>\n",
       "<style scoped>\n",
       "    .dataframe tbody tr th:only-of-type {\n",
       "        vertical-align: middle;\n",
       "    }\n",
       "\n",
       "    .dataframe tbody tr th {\n",
       "        vertical-align: top;\n",
       "    }\n",
       "\n",
       "    .dataframe thead th {\n",
       "        text-align: right;\n",
       "    }\n",
       "</style>\n",
       "<table border=\"1\" class=\"dataframe\">\n",
       "  <thead>\n",
       "    <tr style=\"text-align: right;\">\n",
       "      <th></th>\n",
       "      <th>Name</th>\n",
       "      <th>kappa</th>\n",
       "      <th>recall</th>\n",
       "      <th>f1</th>\n",
       "      <th>precision</th>\n",
       "      <th>epochs</th>\n",
       "      <th>Parameters</th>\n",
       "    </tr>\n",
       "  </thead>\n",
       "  <tbody>\n",
       "    <tr>\n",
       "      <th>1</th>\n",
       "      <td>MemeClassConv2d-SVP</td>\n",
       "      <td>0.0</td>\n",
       "      <td>1.0</td>\n",
       "      <td>0.666667</td>\n",
       "      <td>0.5</td>\n",
       "      <td>30</td>\n",
       "      <td>[[conv1.weight, (6, 3, 5, 5)], [conv1.bias, (6...</td>\n",
       "    </tr>\n",
       "  </tbody>\n",
       "</table>\n",
       "</div>"
      ],
      "text/plain": [
       "                  Name  kappa  recall        f1  precision  epochs  \\\n",
       "1  MemeClassConv2d-SVP    0.0     1.0  0.666667        0.5      30   \n",
       "\n",
       "                                          Parameters  \n",
       "1  [[conv1.weight, (6, 3, 5, 5)], [conv1.bias, (6...  "
      ]
     },
     "execution_count": 381,
     "metadata": {},
     "output_type": "execute_result"
    }
   ],
   "source": [
    "model_name = model._get_name()\n",
    "parameters = [[[name, pram.size()] for name, pram in model.named_parameters()]]\n",
    "total_epochs = model.total_epochs\n",
    "\n",
    "output = pd.DataFrame({\"Name\":model_name + '-SVP', \"kappa\":kappa, \"recall\":recall, \"f1\":f1, \"precision\":precision, \"epochs\":total_epochs, \"Parameters\":parameters}, index=range(1, 2))\n",
    "output"
   ]
  },
  {
   "cell_type": "code",
   "execution_count": 382,
   "metadata": {},
   "outputs": [],
   "source": [
    "# path = \"../models/\"\n",
    "model_name = f\"{model._get_name()}_V2\"\n",
    "\n",
    "save = True\n",
    "if save is True:\n",
    "    try:\n",
    "        output_csv = pd.read_csv('../models/modelstransfer.csv')\n",
    "        output = pd.concat([output_csv, output])\n",
    "        output.to_csv('../models/modelstransfer.csv', index=False)\n",
    "        # torch.save(model, f\"../models/{model_name}\")\n",
    "\n",
    "    except:\n",
    "        output.to_csv('../models/modelstransfer.csv', index=False)\n"
   ]
  }
 ],
 "metadata": {
  "kernelspec": {
   "display_name": "Python 3",
   "language": "python",
   "name": "python3"
  },
  "language_info": {
   "codemirror_mode": {
    "name": "ipython",
    "version": 3
   },
   "file_extension": ".py",
   "mimetype": "text/x-python",
   "name": "python",
   "nbconvert_exporter": "python",
   "pygments_lexer": "ipython3",
   "version": "3.11.7"
  }
 },
 "nbformat": 4,
 "nbformat_minor": 2
}
