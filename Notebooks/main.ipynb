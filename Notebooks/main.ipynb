{
 "cells": [
  {
   "cell_type": "markdown",
   "metadata": {},
   "source": [
    "TODO\n",
    "________________\n",
    "\n",
    "* Test with pre-prossed data -> DONE\n",
    "* Make saving module features and saving CSV of models tested -> DONE\n",
    "* Make Validation stuff -> DONE\n",
    "* Fix GPU not being used in training? -> DONE Image Prosessing issue\n",
    "* Clean up pre/prossing files -> DONE\n",
    "* Clean up NN classes files -> DONE\n",
    "* Clean up Reddit Scraper Files -> DONE\n",
    "* Add L1/L2 Regulation / Dropouts -> DONE \n",
    "* Make Save function -> DONE\n",
    "____________\n",
    "\n",
    "* Do learn transfer to other libraries\n",
    "* finally clean up RedditScraper, for real this time"
   ]
  },
  {
   "cell_type": "code",
   "execution_count": 9,
   "metadata": {},
   "outputs": [],
   "source": [
    "# Torch libraries\n",
    "import torch\n",
    "import torch.nn as nn\n",
    "import torch.optim as optim\n",
    "from torch.utils.data import DataLoader\n",
    "import torchvision.transforms as transforms\n",
    "\n",
    "# Other\n",
    "import matplotlib.pyplot as plt\n",
    "import seaborn as sns\n",
    "import pandas as pd\n",
    "import numpy as np\n",
    "from tqdm.notebook import tqdm\n",
    "from glob import glob\n",
    "from PIL import Image\n",
    "\n",
    "# Import created modules\n",
    "from modules.Neural_Work_Library import nn as nnlib\n",
    "from modules.Preprocess_Validation import preprocess"
   ]
  },
  {
   "cell_type": "markdown",
   "metadata": {},
   "source": [
    "Create Libraries/Convert set Transform to convert to Tensors"
   ]
  },
  {
   "cell_type": "code",
   "execution_count": 10,
   "metadata": {},
   "outputs": [],
   "source": [
    "transform = transforms.Compose([\n",
    "    transforms.ToTensor()\n",
    "])\n",
    "\n",
    "train_folder = nnlib.MemeOrCatDataSet(data_dir=\"../DataBaseV2/train/\", transform=transform)\n",
    "valid_folder = nnlib.MemeOrCatDataSet(data_dir=\"../DataBaseV2/valid/\", transform=transform)\n",
    "\n",
    "train_loader = DataLoader(train_folder, batch_size=124, shuffle=True, pin_memory=True, pin_memory_device=\"cuda:0\")\n",
    "valid_loader = DataLoader(valid_folder, batch_size=64, shuffle=False, pin_memory=True, pin_memory_device=\"cuda:0\")\n",
    "\n",
    "# Load Pre-prosser for test set\n",
    "transform_full = transforms.Compose([\n",
    "    transforms.Resize((256,256)),\n",
    "    transforms.ToTensor()\n",
    "])\n",
    "PreProssor = preprocess.PreProcess(transform_full)"
   ]
  },
  {
   "cell_type": "markdown",
   "metadata": {},
   "source": [
    "Create NN instance, Set GPU (if available)"
   ]
  },
  {
   "cell_type": "code",
   "execution_count": 130,
   "metadata": {},
   "outputs": [
    {
     "name": "stdout",
     "output_type": "stream",
     "text": [
      "NVIDIA GeForce RTX 4070 Ti\n"
     ]
    }
   ],
   "source": [
    "device = torch.device(\"cuda:0\" if torch.cuda.is_available() else \"cpu\")\n",
    "print(torch.cuda.get_device_name(device))\n",
    "\n",
    "# create model instance\n",
    "model = nnlib.MemeClassConv2d()\n",
    "model.to(device, non_blocking=True)\n",
    "model.total_epochs = 0\n",
    "\n",
    "train_losses, val_losses = [], []\n",
    "\n",
    "# loss Function\n",
    "criterion = nn.CrossEntropyLoss()"
   ]
  },
  {
   "cell_type": "markdown",
   "metadata": {},
   "source": [
    "Train Model with Epochs"
   ]
  },
  {
   "cell_type": "code",
   "execution_count": 131,
   "metadata": {},
   "outputs": [
    {
     "data": {
      "application/vnd.jupyter.widget-view+json": {
       "model_id": "a4c63ac595dc4d5bbb5a80a1a2eb8f52",
       "version_major": 2,
       "version_minor": 0
      },
      "text/plain": [
       "Training Model:   0%|          | 0/40 [00:00<?, ?it/s]"
      ]
     },
     "metadata": {},
     "output_type": "display_data"
    },
    {
     "name": "stdout",
     "output_type": "stream",
     "text": [
      "Epoch 1/40 - Train Loss 0.5866473003240962, valid_loss 0.24500666558742523\n",
      "Epoch 2/40 - Train Loss 0.3988959470388159, valid_loss 0.23780182003974915\n",
      "Epoch 3/40 - Train Loss 0.33129756546568595, valid_loss 0.22254744917154312\n",
      "Epoch 4/40 - Train Loss 0.28603534506343875, valid_loss 0.22171800583600998\n",
      "Epoch 5/40 - Train Loss 0.2741840978152077, valid_loss 0.219781756401062\n",
      "Epoch 6/40 - Train Loss 0.25810946793516354, valid_loss 0.2059050351381302\n",
      "Epoch 7/40 - Train Loss 0.23562703976872823, valid_loss 0.21867433190345764\n",
      "Epoch 8/40 - Train Loss 0.239565715427309, valid_loss 0.18742328137159348\n",
      "Epoch 9/40 - Train Loss 0.23090819777802116, valid_loss 0.1587451472878456\n",
      "Epoch 10/40 - Train Loss 0.21840495453483758, valid_loss 0.16216915100812912\n",
      "Epoch 11/40 - Train Loss 0.20042667347186535, valid_loss 0.16348592936992645\n",
      "Epoch 12/40 - Train Loss 0.19455407438420202, valid_loss 0.1643715351819992\n",
      "Epoch 13/40 - Train Loss 0.1917480667868129, valid_loss 0.167291309684515\n",
      "Epoch 14/40 - Train Loss 0.19112003505105385, valid_loss 0.36668525636196136\n",
      "Epoch 15/40 - Train Loss 0.2223299683199158, valid_loss 0.20351358503103256\n",
      "Epoch 16/40 - Train Loss 0.1885381619851791, valid_loss 0.1655213087797165\n",
      "Epoch 17/40 - Train Loss 0.16239207576621661, valid_loss 0.16694352496415377\n",
      "Epoch 18/40 - Train Loss 0.15466818311558247, valid_loss 0.2544327974319458\n",
      "Epoch 19/40 - Train Loss 0.19230552181181115, valid_loss 0.16615358740091324\n",
      "Epoch 20/40 - Train Loss 0.16322339834526664, valid_loss 0.1843256801366806\n",
      "Epoch 21/40 - Train Loss 0.14233493132277342, valid_loss 0.2152587128803134\n",
      "Epoch 22/40 - Train Loss 0.13502412911430547, valid_loss 0.1891523152589798\n",
      "Epoch 23/40 - Train Loss 0.12031105474462828, valid_loss 0.24239833652973175\n",
      "Epoch 24/40 - Train Loss 0.11448363821988569, valid_loss 0.16697439923882484\n",
      "Epoch 25/40 - Train Loss 0.10404989018242188, valid_loss 0.22181090340018272\n",
      "Epoch 26/40 - Train Loss 0.12136415506605071, valid_loss 0.2827561777085066\n",
      "Epoch 27/40 - Train Loss 0.15349380108318608, valid_loss 0.21574212610721588\n",
      "Epoch 28/40 - Train Loss 0.12785298373382792, valid_loss 0.2988032605499029\n",
      "Epoch 29/40 - Train Loss 0.11276233027316435, valid_loss 0.21225538849830627\n",
      "Epoch 30/40 - Train Loss 0.10404159043027067, valid_loss 0.2775388415902853\n",
      "Epoch 31/40 - Train Loss 0.12251716600721284, valid_loss 0.14807753264904022\n",
      "Epoch 32/40 - Train Loss 0.10198938729807874, valid_loss 0.16995896771550179\n",
      "Epoch 33/40 - Train Loss 0.12807372802539554, valid_loss 0.19581295549869537\n",
      "Epoch 34/40 - Train Loss 0.11025252561459596, valid_loss 0.2342546507716179\n",
      "Epoch 35/40 - Train Loss 0.09514984249476978, valid_loss 0.17524126544594765\n",
      "Epoch 36/40 - Train Loss 0.09128493793861495, valid_loss 0.2095855548977852\n",
      "Epoch 37/40 - Train Loss 0.0925798644092763, valid_loss 0.17849132418632507\n",
      "Epoch 38/40 - Train Loss 0.08557583154991752, valid_loss 0.21516108512878418\n",
      "Epoch 39/40 - Train Loss 0.0738663674335121, valid_loss 0.2857524901628494\n",
      "Epoch 40/40 - Train Loss 0.06873265526168897, valid_loss 0.31103398464620113\n"
     ]
    }
   ],
   "source": [
    "num_epoch = 40\n",
    "\n",
    "# Optimizer\n",
    "optimizer = optim.Adam(model.parameters(), lr=0.001)\n",
    "\n",
    "# Set the regularization strength for L1 and L2\n",
    "l2_lambda = 0.001  # Adjust this value as needed\n",
    "\n",
    "for epoch in tqdm(range(num_epoch), desc=\"Training Model\"):\n",
    "\n",
    "    # Train cycle\n",
    "    model.train()\n",
    "    running_loss = 0.0\n",
    "    for images, labels in train_loader:\n",
    "        images, labels = images.to(device), labels.to(device)\n",
    "\n",
    "        # Optimizer / Backwards prop\n",
    "        optimizer.zero_grad()\n",
    "        outputs = model(images)\n",
    "        loss = criterion(outputs, labels)\n",
    "\n",
    "        # L2 regularization\n",
    "        loss += l2_lambda * sum(torch.sum(param ** 2) for param in model.parameters())\n",
    "\n",
    "        loss.backward()\n",
    "        optimizer.step()\n",
    "\n",
    "        # Calculate train loss\n",
    "        running_loss += loss.item() * images.size(0)\n",
    "\n",
    "    train_loss = running_loss / len(train_loader.dataset)\n",
    "    train_losses.append(train_loss)\n",
    "\n",
    "    # Validation cycle\n",
    "    model.eval()\n",
    "    running_loss = 0.0\n",
    "    with torch.no_grad():\n",
    "        for images, labels in valid_loader:\n",
    "            images, labels = images.to(device), labels.to(device)\n",
    "\n",
    "            # Calculate Val loss\n",
    "            outputs = model(images)\n",
    "            loss = criterion(outputs, labels)\n",
    "            running_loss += loss.item() * images.size(0)\n",
    "    val_loss = running_loss / len(valid_loader.dataset)\n",
    "    val_losses.append(val_loss)\n",
    "\n",
    "    # print EPOCH\n",
    "    print(f\"Epoch {epoch+1}/{num_epoch} - Train Loss {train_loss}, valid_loss {val_loss}\")\n",
    "    model.total_epochs += 1\n"
   ]
  },
  {
   "cell_type": "markdown",
   "metadata": {},
   "source": [
    "Visulize training/Validation Loss"
   ]
  },
  {
   "cell_type": "code",
   "execution_count": 132,
   "metadata": {},
   "outputs": [
    {
     "data": {
      "image/png": "[encoded data removed]",
      "text/plain": [
       "<Figure size 640x480 with 1 Axes>"
      ]
     },
     "metadata": {},
     "output_type": "display_data"
    }
   ],
   "source": [
    "fig, ax = plt.subplots()\n",
    "\n",
    "ax = sns.lineplot(train_losses, label='Training Losses')\n",
    "ax = sns.lineplot(val_losses, label='Validation Losses')\n",
    "\n",
    "plt.show()"
   ]
  },
  {
   "cell_type": "markdown",
   "metadata": {},
   "source": [
    "Validate and Save current model"
   ]
  },
  {
   "cell_type": "code",
   "execution_count": 13,
   "metadata": {},
   "outputs": [],
   "source": [
    "cats = glob('../DataBaseV2/test/cat/*')\n",
    "memes = glob('../DataBaseV2/test/memes/*')\n",
    "class_names = train_folder.classes\n",
    "results = {}\n",
    "\n",
    "for cat, meme in zip(cats, memes):\n",
    "    cat_org, cat_tensor = PreProssor.process_image(cat)\n",
    "    meme_org, meme_tensor = PreProssor.process_image(meme)\n",
    "\n",
    "    results[cat] = [nnlib.predict(model, cat_tensor, device, class_names), 'cat']\n",
    "    results[meme] = [nnlib.predict(model, meme_tensor, device, class_names), 'memes']\n",
    "\n",
    "keys = [str(key).split('\\\\')[1] for key in results.keys()]\n",
    "pred_values = [result[0] for result in results.values()]\n",
    "real_values = [result[1] for result in results.values()]\n",
    "\n",
    "results_df = pd.DataFrame({\"ID\":keys, \"Predict\":pred_values, \"Real\":real_values})"
   ]
  },
  {
   "cell_type": "code",
   "execution_count": 14,
   "metadata": {},
   "outputs": [
    {
     "data": {
      "text/plain": [
       "Predict  Real \n",
       "cat      cat      76\n",
       "memes    memes    75\n",
       "cat      memes     7\n",
       "memes    cat       6\n",
       "Name: count, dtype: int64"
      ]
     },
     "execution_count": 14,
     "metadata": {},
     "output_type": "execute_result"
    }
   ],
   "source": [
    "results_df[['Predict', 'Real']].value_counts()"
   ]
  },
  {
   "cell_type": "code",
   "execution_count": 15,
   "metadata": {},
   "outputs": [
    {
     "data": {
      "text/plain": [
       "Predict\n",
       "cat      83\n",
       "memes    81\n",
       "Name: count, dtype: int64"
      ]
     },
     "execution_count": 15,
     "metadata": {},
     "output_type": "execute_result"
    }
   ],
   "source": [
    "results_df['Predict'].value_counts()"
   ]
  },
  {
   "cell_type": "code",
   "execution_count": 17,
   "metadata": {},
   "outputs": [
    {
     "name": "stdout",
     "output_type": "stream",
     "text": [
      "Kappa:0.84 |  Recall:0.92 |  F1:0.92 |  Precision:0.92\n"
     ]
    },
    {
     "data": {
      "image/png": "[encoded data removed]",
      "text/plain": [
       "<Figure size 640x480 with 2 Axes>"
      ]
     },
     "metadata": {},
     "output_type": "display_data"
    }
   ],
   "source": [
    "from sklearn.metrics import confusion_matrix, ConfusionMatrixDisplay, cohen_kappa_score, recall_score, f1_score, precision_score\n",
    "\n",
    "matrix = confusion_matrix(y_pred=results_df['Predict'], y_true=results_df['Real'])\n",
    "kappa = cohen_kappa_score(y1=results_df['Predict'], y2=results_df['Real'])\n",
    "recall = recall_score(y_true=results_df['Predict'], y_pred=results_df['Real'], pos_label='cat')\n",
    "f1 = f1_score(y_pred=results_df['Predict'], y_true=results_df['Real'], pos_label='cat')\n",
    "precision = precision_score(y_pred=results_df['Predict'], y_true=results_df['Real'], pos_label='cat')\n",
    "\n",
    "print(f\"Kappa:{kappa:.2f} |  Recall:{recall:.2f} |  F1:{f1:.2f} |  Precision:{precision:.2f}\")\n",
    "\n",
    "disp = ConfusionMatrixDisplay(matrix, display_labels=class_names)\n",
    "disp.plot()\n",
    "plt.show()"
   ]
  },
  {
   "cell_type": "code",
   "execution_count": 18,
   "metadata": {},
   "outputs": [
    {
     "data": {
      "text/html": [
       "<div>\n",
       "<style scoped>\n",
       "    .dataframe tbody tr th:only-of-type {\n",
       "        vertical-align: middle;\n",
       "    }\n",
       "\n",
       "    .dataframe tbody tr th {\n",
       "        vertical-align: top;\n",
       "    }\n",
       "\n",
       "    .dataframe thead th {\n",
       "        text-align: right;\n",
       "    }\n",
       "</style>\n",
       "<table border=\"1\" class=\"dataframe\">\n",
       "  <thead>\n",
       "    <tr style=\"text-align: right;\">\n",
       "      <th></th>\n",
       "      <th>Name</th>\n",
       "      <th>kappa</th>\n",
       "      <th>recall</th>\n",
       "      <th>f1</th>\n",
       "      <th>precision</th>\n",
       "      <th>epochs</th>\n",
       "      <th>Parameters</th>\n",
       "    </tr>\n",
       "  </thead>\n",
       "  <tbody>\n",
       "    <tr>\n",
       "      <th>1</th>\n",
       "      <td>MemeClassConv2d</td>\n",
       "      <td>0.841463</td>\n",
       "      <td>0.915663</td>\n",
       "      <td>0.921212</td>\n",
       "      <td>0.915663</td>\n",
       "      <td>68</td>\n",
       "      <td>[[conv1.weight, (6, 3, 5, 5)], [conv1.bias, (6...</td>\n",
       "    </tr>\n",
       "  </tbody>\n",
       "</table>\n",
       "</div>"
      ],
      "text/plain": [
       "              Name     kappa    recall        f1  precision  epochs  \\\n",
       "1  MemeClassConv2d  0.841463  0.915663  0.921212   0.915663      68   \n",
       "\n",
       "                                          Parameters  \n",
       "1  [[conv1.weight, (6, 3, 5, 5)], [conv1.bias, (6...  "
      ]
     },
     "execution_count": 18,
     "metadata": {},
     "output_type": "execute_result"
    }
   ],
   "source": [
    "model_name = model._get_name()\n",
    "parameters = [[[name, pram.size()] for name, pram in model.named_parameters()]]\n",
    "total_epochs = model.total_epochs\n",
    "\n",
    "output = pd.DataFrame({\"Name\":model_name, \"kappa\":kappa, \"recall\":recall, \"f1\":f1, \"precision\":precision, \"epochs\":total_epochs, \"Parameters\":parameters}, index=range(1, 2))\n",
    "output"
   ]
  },
  {
   "cell_type": "code",
   "execution_count": 104,
   "metadata": {},
   "outputs": [],
   "source": [
    "path = \"../models/models.csv\"\n",
    "model_name = f\"{model._get_name()}_V2\"\n",
    "\n",
    "save = False\n",
    "if save is True:\n",
    "    try:\n",
    "        output_csv = pd.read_csv('../models/models.csv')\n",
    "        output = pd.concat([output_csv, output])\n",
    "        output.to_csv('../models/models.csv', index=False)\n",
    "        torch.save(model, f\"../models/{model_name}\")\n",
    "\n",
    "    except:\n",
    "        output.to_csv('../models/models.csv', index=False)\n"
   ]
  }
 ],
 "metadata": {
  "kernelspec": {
   "display_name": "Python 3",
   "language": "python",
   "name": "python3"
  },
  "language_info": {
   "codemirror_mode": {
    "name": "ipython",
    "version": 3
   },
   "file_extension": ".py",
   "mimetype": "text/x-python",
   "name": "python",
   "nbconvert_exporter": "python",
   "pygments_lexer": "ipython3",
   "version": "3.11.7"
  }
 },
 "nbformat": 4,
 "nbformat_minor": 2
}
