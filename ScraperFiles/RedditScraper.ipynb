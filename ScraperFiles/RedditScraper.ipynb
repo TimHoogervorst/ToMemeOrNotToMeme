{
 "cells": [
  {
   "cell_type": "code",
   "execution_count": 112,
   "metadata": {},
   "outputs": [],
   "source": [
    "import praw\n",
    "import requests\n",
    "import os\n",
    "from tqdm.notebook import tqdm\n",
    "import credentials as cred\n",
    "\n",
    "reddit = praw.Reddit(\n",
    "    user_agent=True, \n",
    "    client_id=cred.client_id, \n",
    "    client_secret=cred.client_secret, \n",
    "    username=cred.username, \n",
    "    password=cred.password)"
   ]
  },
  {
   "cell_type": "code",
   "execution_count": 88,
   "metadata": {},
   "outputs": [
    {
     "data": {
      "application/vnd.jupyter.widget-view+json": {
       "model_id": "98cf0633d8614970b9fc3b02adf87048",
       "version_major": 2,
       "version_minor": 0
      },
      "text/plain": [
       "Downloading Images:   0%|          | 0/9 [00:00<?, ?it/s]"
      ]
     },
     "metadata": {},
     "output_type": "display_data"
    }
   ],
   "source": [
    "# set subreddit and folder\n",
    "subreddit = reddit.subreddit('cats')\n",
    "output_folder = '../MemeDataBase/test/Cat'\n",
    "os.makedirs(output_folder, exist_ok=True)\n",
    "\n",
    "# set limit offset\n",
    "offset = 500\n",
    "limit = 10\n",
    "\n",
    "# get posts\n",
    "posts = subreddit.hot(limit=limit + offset)\n",
    "posts_off = [post for i, post in enumerate(posts) if i > offset]\n",
    "\n",
    "# loop over fil, download image\n",
    "for post in tqdm(posts_off, desc='Downloading Images'):\n",
    "    if post.url.endswith(('.jpg', '.jpeg', '.png')):\n",
    "        response = requests.get(post.url)\n",
    "        if response.status_code == 200:\n",
    "            file_extension = post.url.split('.')[-1]\n",
    "            \n",
    "            filename = f\"{output_folder}/{post.id}.{file_extension}\"\n",
    "            with open(filename, 'wb') as file:\n",
    "                file.write(response.content)\n",
    "        else:\n",
    "            print(f\"Failed to download image: {post.url}\")"
   ]
  }
 ],
 "metadata": {
  "kernelspec": {
   "display_name": "Python 3",
   "language": "python",
   "name": "python3"
  },
  "language_info": {
   "codemirror_mode": {
    "name": "ipython",
    "version": 3
   },
   "file_extension": ".py",
   "mimetype": "text/x-python",
   "name": "python",
   "nbconvert_exporter": "python",
   "pygments_lexer": "ipython3",
   "version": "3.11.7"
  }
 },
 "nbformat": 4,
 "nbformat_minor": 2
}
